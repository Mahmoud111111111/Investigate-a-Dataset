{
 "cells": [
  {
   "cell_type": "markdown",
   "metadata": {},
   "source": [
    "> **Tip**: Welcome to the Investigate a Dataset project! You will find tips in quoted sections like this to help organize your approach to your investigation. Once you complete this project, remove these **Tip** sections from your report before submission. First things first, you might want to double-click this Markdown cell and change the title so that it reflects your dataset and investigation.\n",
    "\n",
    "# Project: Investigate a Dataset - [TMDb]\n",
    "\n",
    "## Table of Contents\n",
    "<ul>\n",
    "<li><a href=\"#intro\">Introduction</a></li>\n",
    "<li><a href=\"#wrangling\">Data Wrangling</a></li>\n",
    "<li><a href=\"#eda\">Exploratory Data Analysis</a></li>\n",
    "<li><a href=\"#conclusions\">Conclusions</a></li>\n",
    "</ul>"
   ]
  },
  {
   "cell_type": "markdown",
   "metadata": {},
   "source": [
    "<a id='intro'></a>\n",
    "## Introduction\n",
    "\n",
    "### Dataset Description \n",
    "\n",
    ">   This data set contains information about 10,000 movies collected from The Movie Database (TMDb),\n",
    "including user ratings and revenue,id,imdb_id,popularity,budget,revenue,original_title,cast,homepage,tagline,keywords,overview,runtime,genres,production_c\n",
    "ompanies,production_companies,vote_count,vote_average,release_year.\n",
    "\n",
    "\n",
    "In this project, i'll be answering the following questions:\n",
    "  + What month is considered \"best\" for releasing a films/shows?\n",
    "  + What is the relationship between runtime and vote average?\n",
    "  + What genres are associated with films/shows that have high revenues?\n",
    "  + What percentage do the top 5 genres make up?\n"
   ]
  },
  {
   "cell_type": "code",
   "execution_count": 9,
   "metadata": {},
   "outputs": [],
   "source": [
    "import pandas as pd\n",
    "import numpy as np\n",
    "import matplotlib.pyplot as plt\n",
    "import seaborn as sns\n",
    "% matplotlib inline"
   ]
  },
  {
   "cell_type": "code",
   "execution_count": 10,
   "metadata": {},
   "outputs": [
    {
     "name": "stdout",
     "output_type": "stream",
     "text": [
      "Requirement already up-to-date: pandas==0.25.0 in /opt/conda/lib/python3.6/site-packages (0.25.0)\n",
      "Requirement already satisfied, skipping upgrade: python-dateutil>=2.6.1 in /opt/conda/lib/python3.6/site-packages (from pandas==0.25.0) (2.6.1)\n",
      "Requirement already satisfied, skipping upgrade: numpy>=1.13.3 in /opt/conda/lib/python3.6/site-packages (from pandas==0.25.0) (1.19.5)\n",
      "Requirement already satisfied, skipping upgrade: pytz>=2017.2 in /opt/conda/lib/python3.6/site-packages (from pandas==0.25.0) (2017.3)\n",
      "Requirement already satisfied, skipping upgrade: six>=1.5 in /opt/conda/lib/python3.6/site-packages (from python-dateutil>=2.6.1->pandas==0.25.0) (1.11.0)\n"
     ]
    }
   ],
   "source": [
    "# Upgrade pandas to use dataframe.explode() function. \n",
    "!pip install --upgrade pandas==0.25.0"
   ]
  },
  {
   "cell_type": "markdown",
   "metadata": {},
   "source": [
    "<a id='wrangling'></a>\n",
    "## Data Wrangling\n",
    "\n",
    "### General Properties\n"
   ]
  },
  {
   "cell_type": "code",
   "execution_count": null,
   "metadata": {},
   "outputs": [],
   "source": [
    "tmdb_df = pd.read_csv('tmdb-movies.csv')\n",
    "tmdb_df.head(1)"
   ]
  },
  {
   "cell_type": "markdown",
   "metadata": {},
   "source": [
    "\n",
    "### Data Cleaning\n",
    "# Data Cleaning - Drop Unecessary Columns\n",
    " > Remove columns that are not useful for answering questions (Budget, Revenue,Homepage, Tagline, Keywords and Overview)\n"
   ]
  },
  {
   "cell_type": "code",
   "execution_count": null,
   "metadata": {},
   "outputs": [],
   "source": [
    "tmdb_df.drop(['budget','revenue','homepage','tagline','keywords','overview','release_year','cast','director','tagline','overview','production_companies'], axis=1 , inplace=True)\n",
    "tmdb_df.columns\n"
   ]
  },
  {
   "cell_type": "code",
   "execution_count": null,
   "metadata": {},
   "outputs": [],
   "source": [
    "tmdb_df.describe()"
   ]
  },
  {
   "cell_type": "code",
   "execution_count": null,
   "metadata": {},
   "outputs": [],
   "source": [
    "print(tmdb_df['budget_adj'].mean())"
   ]
  },
  {
   "cell_type": "code",
   "execution_count": null,
   "metadata": {},
   "outputs": [],
   "source": [
    "tmdb_df['budget_adj'] = tmdb_df['budget_adj'].replace(0, 17551039.822886847)"
   ]
  },
  {
   "cell_type": "code",
   "execution_count": null,
   "metadata": {},
   "outputs": [],
   "source": [
    "print(tmdb_df['revenue_adj'].mean())"
   ]
  },
  {
   "cell_type": "code",
   "execution_count": null,
   "metadata": {},
   "outputs": [],
   "source": [
    "tmdb_df['revenue_adj'] = tmdb_df['revenue_adj'].replace(0, 51364363.25325093)"
   ]
  },
  {
   "cell_type": "code",
   "execution_count": null,
   "metadata": {},
   "outputs": [],
   "source": [
    "print(tmdb_df['runtime'].mean())"
   ]
  },
  {
   "cell_type": "code",
   "execution_count": null,
   "metadata": {},
   "outputs": [],
   "source": [
    "tmdb_df['runtime'] = tmdb_df['runtime'].replace(0, 102.07086324314375)\n",
    "tmdb_df.describe()\n"
   ]
  },
  {
   "cell_type": "markdown",
   "metadata": {},
   "source": [
    "## cleaning dupicated"
   ]
  },
  {
   "cell_type": "code",
   "execution_count": null,
   "metadata": {},
   "outputs": [],
   "source": [
    "sum(tmdb_df.duplicated())"
   ]
  },
  {
   "cell_type": "code",
   "execution_count": null,
   "metadata": {},
   "outputs": [],
   "source": [
    "tmdb_df.drop_duplicates(inplace=True)"
   ]
  },
  {
   "cell_type": "markdown",
   "metadata": {},
   "source": [
    "## Data Cleaning - Changing Datatypes\n",
    ">Change datatypes of columns to appropriate kinds. Ex. 'release_date' needs to be\n",
    "datetime.\n"
   ]
  },
  {
   "cell_type": "code",
   "execution_count": null,
   "metadata": {},
   "outputs": [],
   "source": [
    "tmdb_df['release_date'] = pd.to_datetime(tmdb_df['release_date'])\n",
    "tmdb_df.dtypes"
   ]
  },
  {
   "cell_type": "markdown",
   "metadata": {},
   "source": [
    "## Exploratory Data Analysis"
   ]
  },
  {
   "cell_type": "code",
   "execution_count": null,
   "metadata": {},
   "outputs": [],
   "source": [
    "tmdb_df.hist(figsize=(15,8));"
   ]
  },
  {
   "cell_type": "markdown",
   "metadata": {},
   "source": [
    "# What month is considered \"best\" for releasing a film/show?\n"
   ]
  },
  {
   "cell_type": "code",
   "execution_count": null,
   "metadata": {},
   "outputs": [],
   "source": [
    "tmdb_df['month'] = tmdb_df['release_date'].apply(lambda x: x.month)\n",
    "tmdb_df.head(3)"
   ]
  },
  {
   "cell_type": "code",
   "execution_count": null,
   "metadata": {},
   "outputs": [],
   "source": [
    "month_revenue = tmdb_df.groupby('month')['revenue_adj'].sum()\n",
    "month_revenue"
   ]
  },
  {
   "cell_type": "code",
   "execution_count": null,
   "metadata": {},
   "outputs": [],
   "source": [
    "sns.set_style('darkgrid')\n",
    "plt.bar([1,2,3,4,5,6,7,8,9,10,11,12], month_revenue, tick_label = [1,2,3,4,5,6,7,8\n",
    "plt.title('Month Released vs. Revenue')\n",
    "plt.ylabel('Revenue Adjusted')\n",
    "plt.xlabel('Month');\n"
   ]
  },
  {
   "cell_type": "code",
   "execution_count": null,
   "metadata": {},
   "outputs": [],
   "source": [
    "tmdb_df['month'].value_counts()"
   ]
  },
  {
   "cell_type": "code",
   "execution_count": null,
   "metadata": {},
   "outputs": [],
   "source": [
    "tmdb_df['month'].value_counts().mean()"
   ]
  },
  {
   "cell_type": "markdown",
   "metadata": {},
   "source": [
    "# What is the relationship between runtime and voteaverage?\n"
   ]
  },
  {
   "cell_type": "code",
   "execution_count": null,
   "metadata": {},
   "outputs": [],
   "source": [
    "tmdb_df.plot(x='vote_average', y='runtime', kind='scatter', figsize=(15,10))\n",
    "plt.title('Ratings vs. Runtime')\n",
    "plt.xlabel('Rating')\n",
    "plt.ylabel('Rating');"
   ]
  },
  {
   "cell_type": "markdown",
   "metadata": {},
   "source": [
    "# What genres are associated with films/shows that havehigh revenues?"
   ]
  },
  {
   "cell_type": "code",
   "execution_count": null,
   "metadata": {},
   "outputs": [],
   "source": [
    "tmdb_df.info()"
   ]
  },
  {
   "cell_type": "code",
   "execution_count": null,
   "metadata": {},
   "outputs": [],
   "source": [
    "tmdb_df = tmdb_df.dropna(subset=['genres'], axis=0)\n",
    "tmdb_df.info()"
   ]
  },
  {
   "cell_type": "code",
   "execution_count": null,
   "metadata": {},
   "outputs": [],
   "source": [
    "genres = tmdb_df['genres'].str.split('|', expand=True).rename(columns = lambda x: \"string\"+str(x+1))"
   ]
  },
  {
   "cell_type": "code",
   "execution_count": null,
   "metadata": {},
   "outputs": [],
   "source": [
    "tmdb_df.drop('genres', axis=1, inplace=True)"
   ]
  },
  {
   "cell_type": "code",
   "execution_count": null,
   "metadata": {},
   "outputs": [],
   "source": [
    "tmdb_df = pd.merge(tmdb_df, genres, left_index=True, right_index=True, how='inner')"
   ]
  },
  {
   "cell_type": "code",
   "execution_count": null,
   "metadata": {},
   "outputs": [],
   "source": [
    "top_rev = tmdb_df.nlargest(10, 'revenue_adj')\n",
    "top_rev\n"
   ]
  },
  {
   "cell_type": "code",
   "execution_count": null,
   "metadata": {},
   "outputs": [],
   "source": [
    "copy_df = top_rev.copy()\n",
    "copy_df.drop(['id','imdb_id' ,'popularity','original_title','runtime','release_dat\n",
    "df1 = copy_df.melt()"
   ]
  },
  {
   "cell_type": "code",
   "execution_count": null,
   "metadata": {},
   "outputs": [],
   "source": [
    "df2 = pd.crosstab(index=df1['value'], columns=df1['variable'])\n",
    "df2"
   ]
  },
  {
   "cell_type": "code",
   "execution_count": null,
   "metadata": {},
   "outputs": [],
   "source": [
    "df2['totals'] = df2['genre1'] + df2['genre2'] + df2['genre3'] + df2['genre4'] + df['genre5']\n",
    "df2\n"
   ]
  },
  {
   "cell_type": "code",
   "execution_count": null,
   "metadata": {},
   "outputs": [],
   "source": [
    "df2['totals'].plot(kind=\"bar\", figsize=(8,5), fontsize=12)\n",
    "plt.xlabel('Genre', fontsize = 14)\n",
    "plt.ylabel('Frequency', fontsize = 14)\n",
    "plt.title('Genres of the Highest Earning Films/Shows', fontsize = 14);"
   ]
  },
  {
   "cell_type": "markdown",
   "metadata": {},
   "source": [
    "## What percentage do the top 5 genres make up?\n"
   ]
  },
  {
   "cell_type": "code",
   "execution_count": null,
   "metadata": {},
   "outputs": [],
   "source": [
    "copy_df = tmdb_df.copy()\n",
    "copy_df.drop(['id','imdb_id' ,'popularity','original_title','runtime','release_dat\n",
    "df3 = copy_df.melt()\n"
   ]
  },
  {
   "cell_type": "code",
   "execution_count": null,
   "metadata": {},
   "outputs": [],
   "source": [
    "df4 = pd.crosstab(index=df3['value'], columns=df3['variable'])"
   ]
  },
  {
   "cell_type": "code",
   "execution_count": null,
   "metadata": {},
   "outputs": [],
   "source": [
    "df4['totals'] = df4['genre1'] + df4['genre2'] + df4['genre3'] + df4['genre4'] + df4['genre5']"
   ]
  },
  {
   "cell_type": "code",
   "execution_count": null,
   "metadata": {},
   "outputs": [],
   "source": [
    "top5 = df4.nlargest(5, 'totals')\n",
    "top5"
   ]
  },
  {
   "cell_type": "code",
   "execution_count": null,
   "metadata": {},
   "outputs": [],
   "source": [
    "df4.drop(['Drama','Comedy','Thriller','Action','Romance'], inplace=True)"
   ]
  },
  {
   "cell_type": "code",
   "execution_count": null,
   "metadata": {},
   "outputs": [],
   "source": [
    "df4['totals'].sum()"
   ]
  },
  {
   "cell_type": "code",
   "execution_count": null,
   "metadata": {},
   "outputs": [],
   "source": [
    "count = top5.append({'totals':'11399'}, ignore_index=True)\n",
    "count"
   ]
  },
  {
   "cell_type": "code",
   "execution_count": null,
   "metadata": {},
   "outputs": [],
   "source": [
    "count.index=['Drama','Comedy','Thriller','Action','Romance','Other']\n",
    "count"
   ]
  },
  {
   "cell_type": "code",
   "execution_count": null,
   "metadata": {},
   "outputs": [],
   "source": [
    "genre_total = count['totals'].sum()\n",
    "genre_total"
   ]
  },
  {
   "cell_type": "code",
   "execution_count": null,
   "metadata": {},
   "outputs": [],
   "source": [
    "count['percentage'] = count.loc[:,'totals'] / 26955 * 100\n",
    "count"
   ]
  },
  {
   "cell_type": "code",
   "execution_count": null,
   "metadata": {},
   "outputs": [],
   "source": [
    "count['percentage'].plot(kind=\"pie\", figsize=(8,8), fontsize=13, autopct='%1.0f%%\n",
    "plt.title('Percentage of Genres', fontsize = 14)\n",
    "plt.ylabel('');"
   ]
  },
  {
   "cell_type": "markdown",
   "metadata": {},
   "source": [
    ">From this pie chart, we can see that out of the top 5 genres, Drama is the most\n",
    "frequently made. This means that close to 1 out of every 5 films/shows is in the\n",
    "Drama category.\n",
    "However we can see that these top 5 genres only made up just over half of the total\n",
    "number of films/shows produced - we still have several other less produced genres\n",
    "that when combined, make up a good portion of the whole.\n",
    "Also, we can see that just because a genre produces a larger revenue than others,\n",
    "doesn't necessarily mean that it's going to be one of the most frequently produced\n",
    "genres as well.\n"
   ]
  },
  {
   "cell_type": "markdown",
   "metadata": {},
   "source": [
    "# Conclusions\n",
    "\n",
    ">Throughout this data analysis, I posed questions that Production Companies might\n",
    "find useful, and I've come to several conclusions:\n",
    "It is best to release a movie/show in June or December, because I can conclusively\n",
    "say that those movies are more popular and tend to bring in the most revenue. This\n",
    "could be due to the fact that in the Summer and Winter, families are looking for\n",
    "things to do together.\n",
    "The conclusions I've come to in analyzing the relationship between ratings and\n",
    "runtime are that short films (less than 10 minutes) are likely to have a mid-to-high\n",
    "rating, and TV series (greater than 300 minutes) consistently get higher-thanaverage ratings. The ratings of films/shows with a runtime of around 100 minutes\n",
    "are unpredictable, as they can run from low to high, and films with a runtime above\n",
    "or below 100 minues tend to have mid-to-high ratings. Just at first glance of the\n",
    "scatterplot, users are more friendly - as in they tend to give mostly mid-to-high\n",
    "ratings overall - so production companies will want to make sure their film/show is\n",
    "reviewed on TMDB.\n",
    "If you're a production company and you want to know what genres earn the highest\n",
    "revenues, my bar chart above concluded that out of the top earning films/shows,\n",
    "Adventure, Action and Science Fiction were the most frequent genres on that list.\n",
    "You can conclude that you are more likely to earn a higher revenue if you produce\n",
    "those genres.\n",
    "Finally, when I calculated the percentages of each genre, I noticed that only of the\n",
    "highet earning genres is in the top 5 most frequently produced genres (Action).\n",
    "Perhaps it is because Adventure and Science Fiction movies are more expensive to\n",
    "produce so they are more rarely made, or perhaps production companies want to\n",
    "focus on genres that are more popular with people, not necessarily the genres that\n",
    "produce the highest revenues. No matter the cause, I can conlcude that just\n",
    "because a genre produces a larger revenue than others, doesn't necessarily mean\n",
    "that it's going to be one of the most frequently produced genres.\n",
    "A few notes about my data cleaning are that in the runtime, budget_adj and\n",
    "revenue_adj I filled all of the 0 values with their means. This possibly could've been\n",
    "more accurate if I used regression to find like-properties to fill the 0 values instead\n",
    "of the mean."
   ]
  },
  {
   "cell_type": "markdown",
   "metadata": {},
   "source": [
    "> Resources I used in my analysis:\n",
    "https://stackoverflow.com/questions/47517831/how-to-copy-column-with-the-pandas-and-changethe-name (https://stackoverflow.com/questions/47517831/how-to-copy-column-with-the-pandasand-change-the-name) https://stackoverflow.com/questions/25146121/extracting-just-month-andyear-from-pandas-datetime-column-python\n",
    "(https://stackoverflow.com/questions/25146121/extracting-just-month-and-year-from-pandasdatetime-column-python) https://stackoverflow.com/questions/30405413/python-pandas-extractyear-from-datetime-dfyear-dfdate-year-is-not\n",
    "(https://stackoverflow.com/questions/30405413/python-pandas-extract-year-from-datetime-dfyeardfdate-year-is-not) https://stackoverflow.com/questions/48733618/how-to-drop-rows-from-a-"
   ]
  },
  {
   "cell_type": "code",
   "execution_count": null,
   "metadata": {
    "collapsed": true
   },
   "outputs": [],
   "source": [
    "from subprocess import call\n",
    "call(['python', '-m', 'nbconvert', 'Investigate_a_Dataset.ipynb'])"
   ]
  }
 ],
 "metadata": {
  "kernelspec": {
   "display_name": "Python 3",
   "language": "python",
   "name": "python3"
  },
  "language_info": {
   "codemirror_mode": {
    "name": "ipython",
    "version": 3
   },
   "file_extension": ".py",
   "mimetype": "text/x-python",
   "name": "python",
   "nbconvert_exporter": "python",
   "pygments_lexer": "ipython3",
   "version": "3.6.3"
  }
 },
 "nbformat": 4,
 "nbformat_minor": 2
}
